{
 "cells": [
  {
   "cell_type": "markdown",
   "id": "d13ff5c4-91fd-4f56-a6e3-a843596521bc",
   "metadata": {},
   "source": [
    "# Tabel of content\n",
    "\n",
    "1. [Считывание и склейка данных](#first-bullet)\n",
    "2. [Модель longformer](#second-bullet)\n",
    "3. [Модель rut5_multitask](#third-bullet)\n",
    "4. [Модель fredt5_ru](#fourth-bullet)\n",
    "5. [Модель vikr](#fifth-bullet)\n",
    "6. [Модель starling](#six-bullet)\n",
    "7. [Модель use-cmlm](#seven-bullet)\n",
    "8. [Модель paraphrase](#eight-bullet)"
   ]
  },
  {
   "cell_type": "markdown",
   "id": "832699ad-1b0c-42ff-85ee-4c84305bc2d1",
   "metadata": {},
   "source": [
    "# Считывание и склейка данных <a class=\"anchor\" id=\"first-bullet\"></a>"
   ]
  },
  {
   "cell_type": "code",
   "execution_count": 53,
   "id": "71270cbc-9caa-46b5-a615-9fdcebc73d92",
   "metadata": {},
   "outputs": [],
   "source": [
    "import pandas as pd\n",
    "import numpy as np\n",
    "from tqdm.notebook import tqdm\n",
    "import re\n",
    "import warnings\n",
    "\n",
    "warnings.filterwarnings('ignore')"
   ]
  },
  {
   "cell_type": "code",
   "execution_count": 25,
   "id": "9c63ddcb-c5a7-4136-8fcc-fa8d3fe9f489",
   "metadata": {},
   "outputs": [],
   "source": [
    "people_df = pd.read_csv('Медицинские_Протоколы_за_сентябрь_2023.csv', sep=';')"
   ]
  },
  {
   "cell_type": "code",
   "execution_count": 26,
   "id": "5a2e96ea-0915-4ec7-a51c-f949d4c643db",
   "metadata": {},
   "outputs": [
    {
     "data": {
      "text/html": [
       "<div>\n",
       "<style scoped>\n",
       "    .dataframe tbody tr th:only-of-type {\n",
       "        vertical-align: middle;\n",
       "    }\n",
       "\n",
       "    .dataframe tbody tr th {\n",
       "        vertical-align: top;\n",
       "    }\n",
       "\n",
       "    .dataframe thead th {\n",
       "        text-align: right;\n",
       "    }\n",
       "</style>\n",
       "<table border=\"1\" class=\"dataframe\">\n",
       "  <thead>\n",
       "    <tr style=\"text-align: right;\">\n",
       "      <th></th>\n",
       "      <th>MedicalRecordKey</th>\n",
       "      <th>MedicalRecordDate</th>\n",
       "      <th>PatientKey</th>\n",
       "      <th>Возраст</th>\n",
       "      <th>Пол</th>\n",
       "      <th>СпециальностьВрача</th>\n",
       "      <th>Жалобы</th>\n",
       "      <th>ПеренесенныеЗаболевания</th>\n",
       "      <th>ПеренесенныеОперации</th>\n",
       "      <th>ПринимаемыеПрепараты</th>\n",
       "    </tr>\n",
       "  </thead>\n",
       "  <tbody>\n",
       "    <tr>\n",
       "      <th>0</th>\n",
       "      <td>106601974</td>\n",
       "      <td>2023-09-01 11:43:56.000</td>\n",
       "      <td>0x9F983DD5D8714DDD306357EE4D64452AD799C6393D17...</td>\n",
       "      <td>1892.0</td>\n",
       "      <td>0.0</td>\n",
       "      <td>Врач педиатр</td>\n",
       "      <td>неустойчивый стул. шкала ВАШ -0. шкала Хампти-...</td>\n",
       "      <td>Факт получения травм, ожогов, ран, проведения ...</td>\n",
       "      <td>Не было.</td>\n",
       "      <td>Не отягощен</td>\n",
       "    </tr>\n",
       "    <tr>\n",
       "      <th>1</th>\n",
       "      <td>106601996</td>\n",
       "      <td>2023-09-01 11:44:14.000</td>\n",
       "      <td>0x10464D4CDD0C380C6305D01418D3C55EEE4D47FD4784...</td>\n",
       "      <td>10893.0</td>\n",
       "      <td>1.0</td>\n",
       "      <td>Врач гастроэнтеролог</td>\n",
       "      <td>на рвоту 2 раза в день, тошноту, общую слабост...</td>\n",
       "      <td>Факт получения травм, ожогов, ран, проведения ...</td>\n",
       "      <td>NaN</td>\n",
       "      <td>NaN</td>\n",
       "    </tr>\n",
       "    <tr>\n",
       "      <th>2</th>\n",
       "      <td>106601997</td>\n",
       "      <td>2023-09-01 11:44:09.000</td>\n",
       "      <td>0xCD6CF235D41371DD1E46CA4B01342381B56CCB51B1AD...</td>\n",
       "      <td>9702.0</td>\n",
       "      <td>0.0</td>\n",
       "      <td>Врач терапевт</td>\n",
       "      <td>- гнусавость голоса, заложенность носа перед с...</td>\n",
       "      <td>Факт получения травм, ожогов, ран, проведения ...</td>\n",
       "      <td>NaN</td>\n",
       "      <td>NaN</td>\n",
       "    </tr>\n",
       "    <tr>\n",
       "      <th>3</th>\n",
       "      <td>106601998</td>\n",
       "      <td>2023-09-01 11:44:18.000</td>\n",
       "      <td>0x256CCD8B1BCF4F03C66EAABEEC017C7109806AA4CEFD...</td>\n",
       "      <td>5402.0</td>\n",
       "      <td>1.0</td>\n",
       "      <td>Врач невролог</td>\n",
       "      <td>последние полгода головные боли давящего харак...</td>\n",
       "      <td>Факт получения травм, ожогов, ран, проведения ...</td>\n",
       "      <td>NaN</td>\n",
       "      <td>NaN</td>\n",
       "    </tr>\n",
       "    <tr>\n",
       "      <th>4</th>\n",
       "      <td>106602005</td>\n",
       "      <td>2023-09-01 11:43:43.000</td>\n",
       "      <td>0xCC1D2E1557D37A1E9071BA7B4DE4477FA27C902CCE69...</td>\n",
       "      <td>14306.0</td>\n",
       "      <td>1.0</td>\n",
       "      <td>дермат</td>\n",
       "      <td>На эпизодически возникающий дискомфорт,  нагру...</td>\n",
       "      <td>Факт получения травм, ожогов, ран, проведения ...</td>\n",
       "      <td>по поводу кисты яичника, внематочная беременн...</td>\n",
       "      <td>не отягощен</td>\n",
       "    </tr>\n",
       "  </tbody>\n",
       "</table>\n",
       "</div>"
      ],
      "text/plain": [
       "   MedicalRecordKey        MedicalRecordDate  \\\n",
       "0         106601974  2023-09-01 11:43:56.000   \n",
       "1         106601996  2023-09-01 11:44:14.000   \n",
       "2         106601997  2023-09-01 11:44:09.000   \n",
       "3         106601998  2023-09-01 11:44:18.000   \n",
       "4         106602005  2023-09-01 11:43:43.000   \n",
       "\n",
       "                                          PatientKey  Возраст  Пол  \\\n",
       "0  0x9F983DD5D8714DDD306357EE4D64452AD799C6393D17...   1892.0  0.0   \n",
       "1  0x10464D4CDD0C380C6305D01418D3C55EEE4D47FD4784...  10893.0  1.0   \n",
       "2  0xCD6CF235D41371DD1E46CA4B01342381B56CCB51B1AD...   9702.0  0.0   \n",
       "3  0x256CCD8B1BCF4F03C66EAABEEC017C7109806AA4CEFD...   5402.0  1.0   \n",
       "4  0xCC1D2E1557D37A1E9071BA7B4DE4477FA27C902CCE69...  14306.0  1.0   \n",
       "\n",
       "     СпециальностьВрача                                             Жалобы  \\\n",
       "0          Врач педиатр  неустойчивый стул. шкала ВАШ -0. шкала Хампти-...   \n",
       "1  Врач гастроэнтеролог  на рвоту 2 раза в день, тошноту, общую слабост...   \n",
       "2         Врач терапевт  - гнусавость голоса, заложенность носа перед с...   \n",
       "3         Врач невролог  последние полгода головные боли давящего харак...   \n",
       "4                дермат  На эпизодически возникающий дискомфорт,  нагру...   \n",
       "\n",
       "                             ПеренесенныеЗаболевания  \\\n",
       "0  Факт получения травм, ожогов, ран, проведения ...   \n",
       "1  Факт получения травм, ожогов, ран, проведения ...   \n",
       "2  Факт получения травм, ожогов, ран, проведения ...   \n",
       "3  Факт получения травм, ожогов, ран, проведения ...   \n",
       "4  Факт получения травм, ожогов, ран, проведения ...   \n",
       "\n",
       "                                ПеренесенныеОперации ПринимаемыеПрепараты  \n",
       "0                                           Не было.          Не отягощен  \n",
       "1                                                NaN                  NaN  \n",
       "2                                                NaN                  NaN  \n",
       "3                                                NaN                  NaN  \n",
       "4   по поводу кисты яичника, внематочная беременн...          не отягощен  "
      ]
     },
     "execution_count": 26,
     "metadata": {},
     "output_type": "execute_result"
    }
   ],
   "source": [
    "people_df.head()"
   ]
  },
  {
   "cell_type": "code",
   "execution_count": 27,
   "id": "5fc40236-5398-4b0d-a9f8-b12f707eeae0",
   "metadata": {},
   "outputs": [
    {
     "data": {
      "text/plain": [
       "(415421, 10)"
      ]
     },
     "execution_count": 27,
     "metadata": {},
     "output_type": "execute_result"
    }
   ],
   "source": [
    "people_df.shape"
   ]
  },
  {
   "cell_type": "code",
   "execution_count": 28,
   "id": "e34801a9-db23-4f16-a0b5-69f19fa5d9c1",
   "metadata": {},
   "outputs": [],
   "source": [
    "diag = pd.read_csv('Диагнозы_за_сентябрь_2023.csv', sep = ';')"
   ]
  },
  {
   "cell_type": "code",
   "execution_count": 29,
   "id": "d7148d5f-39cc-428d-9060-12cfef51c81b",
   "metadata": {},
   "outputs": [
    {
     "data": {
      "text/plain": [
       "(664743, 4)"
      ]
     },
     "execution_count": 29,
     "metadata": {},
     "output_type": "execute_result"
    }
   ],
   "source": [
    "diag.shape"
   ]
  },
  {
   "cell_type": "code",
   "execution_count": 30,
   "id": "4701f11d-edee-4039-bebc-39d09f237713",
   "metadata": {},
   "outputs": [
    {
     "data": {
      "text/html": [
       "<div>\n",
       "<style scoped>\n",
       "    .dataframe tbody tr th:only-of-type {\n",
       "        vertical-align: middle;\n",
       "    }\n",
       "\n",
       "    .dataframe tbody tr th {\n",
       "        vertical-align: top;\n",
       "    }\n",
       "\n",
       "    .dataframe thead th {\n",
       "        text-align: right;\n",
       "    }\n",
       "</style>\n",
       "<table border=\"1\" class=\"dataframe\">\n",
       "  <thead>\n",
       "    <tr style=\"text-align: right;\">\n",
       "      <th></th>\n",
       "      <th>MedicalRecordKey</th>\n",
       "      <th>N_LINE</th>\n",
       "      <th>КодМКБ</th>\n",
       "      <th>ДиагнозПоМКБ</th>\n",
       "    </tr>\n",
       "  </thead>\n",
       "  <tbody>\n",
       "    <tr>\n",
       "      <th>0</th>\n",
       "      <td>106599178</td>\n",
       "      <td>1</td>\n",
       "      <td>S06.00</td>\n",
       "      <td>Сотрясение головного мозга без открытой внутри...</td>\n",
       "    </tr>\n",
       "    <tr>\n",
       "      <th>1</th>\n",
       "      <td>106599178</td>\n",
       "      <td>2</td>\n",
       "      <td>S69.9</td>\n",
       "      <td>Травма запястья и кисти неуточненная|Другие и ...</td>\n",
       "    </tr>\n",
       "    <tr>\n",
       "      <th>2</th>\n",
       "      <td>106599251</td>\n",
       "      <td>1</td>\n",
       "      <td>S86.1</td>\n",
       "      <td>Травма другой (их) мышцы (мышц) и сухожилия (и...</td>\n",
       "    </tr>\n",
       "    <tr>\n",
       "      <th>3</th>\n",
       "      <td>106599253</td>\n",
       "      <td>1</td>\n",
       "      <td>J03.9</td>\n",
       "      <td>Острый тонзиллит неуточненный|Острый тонзиллит...</td>\n",
       "    </tr>\n",
       "    <tr>\n",
       "      <th>4</th>\n",
       "      <td>106599267</td>\n",
       "      <td>1</td>\n",
       "      <td>N41.1</td>\n",
       "      <td>Хронический простатит|Воспалительные болезни п...</td>\n",
       "    </tr>\n",
       "  </tbody>\n",
       "</table>\n",
       "</div>"
      ],
      "text/plain": [
       "   MedicalRecordKey  N_LINE  КодМКБ  \\\n",
       "0         106599178       1  S06.00   \n",
       "1         106599178       2   S69.9   \n",
       "2         106599251       1   S86.1   \n",
       "3         106599253       1   J03.9   \n",
       "4         106599267       1   N41.1   \n",
       "\n",
       "                                        ДиагнозПоМКБ  \n",
       "0  Сотрясение головного мозга без открытой внутри...  \n",
       "1  Травма запястья и кисти неуточненная|Другие и ...  \n",
       "2  Травма другой (их) мышцы (мышц) и сухожилия (и...  \n",
       "3  Острый тонзиллит неуточненный|Острый тонзиллит...  \n",
       "4  Хронический простатит|Воспалительные болезни п...  "
      ]
     },
     "execution_count": 30,
     "metadata": {},
     "output_type": "execute_result"
    }
   ],
   "source": [
    "diag.head()"
   ]
  },
  {
   "cell_type": "code",
   "execution_count": 31,
   "id": "b38fd1f0-cdef-45cd-88f2-4b0edf8b01a0",
   "metadata": {},
   "outputs": [],
   "source": [
    "diag = diag.merge(people_df, on = 'MedicalRecordKey', how = 'left')"
   ]
  },
  {
   "cell_type": "code",
   "execution_count": 32,
   "id": "114e3465-f1c7-45de-a44f-b4eb2d78f98c",
   "metadata": {},
   "outputs": [],
   "source": [
    "articles = pd.read_csv('data.csv')"
   ]
  },
  {
   "cell_type": "code",
   "execution_count": 33,
   "id": "df5662bf-a4aa-485d-baff-f8f4e82ffa94",
   "metadata": {},
   "outputs": [
    {
     "data": {
      "text/html": [
       "<div>\n",
       "<style scoped>\n",
       "    .dataframe tbody tr th:only-of-type {\n",
       "        vertical-align: middle;\n",
       "    }\n",
       "\n",
       "    .dataframe tbody tr th {\n",
       "        vertical-align: top;\n",
       "    }\n",
       "\n",
       "    .dataframe thead th {\n",
       "        text-align: right;\n",
       "    }\n",
       "</style>\n",
       "<table border=\"1\" class=\"dataframe\">\n",
       "  <thead>\n",
       "    <tr style=\"text-align: right;\">\n",
       "      <th></th>\n",
       "      <th>Unnamed: 0</th>\n",
       "      <th>title</th>\n",
       "      <th>text</th>\n",
       "      <th>subtitles</th>\n",
       "      <th>subtitle</th>\n",
       "    </tr>\n",
       "  </thead>\n",
       "  <tbody>\n",
       "    <tr>\n",
       "      <th>0</th>\n",
       "      <td>0</td>\n",
       "      <td>Интравитреальные инъекции</td>\n",
       "      <td>Интравитреальная инъекция – процедура введения...</td>\n",
       "      <td>NaN</td>\n",
       "      <td>Когда принято проводить такую процедуру?, Виды...</td>\n",
       "    </tr>\n",
       "    <tr>\n",
       "      <th>1</th>\n",
       "      <td>1</td>\n",
       "      <td>Диабетическая ретинопатия</td>\n",
       "      <td>Сахарный диабет – заболевание, от которого сег...</td>\n",
       "      <td>NaN</td>\n",
       "      <td>Диабетическая ретинопатия: что это такое, поче...</td>\n",
       "    </tr>\n",
       "    <tr>\n",
       "      <th>2</th>\n",
       "      <td>2</td>\n",
       "      <td>Гимнастика для глаз при близорукости</td>\n",
       "      <td>Различные тренировки зрения при близорукости с...</td>\n",
       "      <td>NaN</td>\n",
       "      <td>Как связаны близорукость и глазные мышцы?, Чем...</td>\n",
       "    </tr>\n",
       "    <tr>\n",
       "      <th>3</th>\n",
       "      <td>3</td>\n",
       "      <td>Гемофтальм: причины, симптомы, диагностика</td>\n",
       "      <td>Гемофтальм – это кровоизлияние в полость стекл...</td>\n",
       "      <td>NaN</td>\n",
       "      <td>Причины гемофтальма, Признаки гемофтальма</td>\n",
       "    </tr>\n",
       "    <tr>\n",
       "      <th>4</th>\n",
       "      <td>4</td>\n",
       "      <td>Вторичная глаукома</td>\n",
       "      <td>По данным ВОЗ (Всемирной организации здравоохр...</td>\n",
       "      <td>NaN</td>\n",
       "      <td>Вторичная глаукома: что это?, Основные формы в...</td>\n",
       "    </tr>\n",
       "  </tbody>\n",
       "</table>\n",
       "</div>"
      ],
      "text/plain": [
       "   Unnamed: 0                                       title  \\\n",
       "0           0                   Интравитреальные инъекции   \n",
       "1           1                   Диабетическая ретинопатия   \n",
       "2           2        Гимнастика для глаз при близорукости   \n",
       "3           3  Гемофтальм: причины, симптомы, диагностика   \n",
       "4           4                          Вторичная глаукома   \n",
       "\n",
       "                                                text  subtitles  \\\n",
       "0  Интравитреальная инъекция – процедура введения...        NaN   \n",
       "1  Сахарный диабет – заболевание, от которого сег...        NaN   \n",
       "2  Различные тренировки зрения при близорукости с...        NaN   \n",
       "3  Гемофтальм – это кровоизлияние в полость стекл...        NaN   \n",
       "4  По данным ВОЗ (Всемирной организации здравоохр...        NaN   \n",
       "\n",
       "                                            subtitle  \n",
       "0  Когда принято проводить такую процедуру?, Виды...  \n",
       "1  Диабетическая ретинопатия: что это такое, поче...  \n",
       "2  Как связаны близорукость и глазные мышцы?, Чем...  \n",
       "3          Причины гемофтальма, Признаки гемофтальма  \n",
       "4  Вторичная глаукома: что это?, Основные формы в...  "
      ]
     },
     "execution_count": 33,
     "metadata": {},
     "output_type": "execute_result"
    }
   ],
   "source": [
    "articles.head()"
   ]
  },
  {
   "cell_type": "code",
   "execution_count": 34,
   "id": "96d6b4f3-de33-4193-b603-1898a6395c62",
   "metadata": {},
   "outputs": [
    {
     "data": {
      "text/html": [
       "<div>\n",
       "<style scoped>\n",
       "    .dataframe tbody tr th:only-of-type {\n",
       "        vertical-align: middle;\n",
       "    }\n",
       "\n",
       "    .dataframe tbody tr th {\n",
       "        vertical-align: top;\n",
       "    }\n",
       "\n",
       "    .dataframe thead th {\n",
       "        text-align: right;\n",
       "    }\n",
       "</style>\n",
       "<table border=\"1\" class=\"dataframe\">\n",
       "  <thead>\n",
       "    <tr style=\"text-align: right;\">\n",
       "      <th></th>\n",
       "      <th>MedicalRecordKey</th>\n",
       "      <th>N_LINE</th>\n",
       "      <th>КодМКБ</th>\n",
       "      <th>ДиагнозПоМКБ</th>\n",
       "      <th>MedicalRecordDate</th>\n",
       "      <th>PatientKey</th>\n",
       "      <th>Возраст</th>\n",
       "      <th>Пол</th>\n",
       "      <th>СпециальностьВрача</th>\n",
       "      <th>Жалобы</th>\n",
       "      <th>ПеренесенныеЗаболевания</th>\n",
       "      <th>ПеренесенныеОперации</th>\n",
       "      <th>ПринимаемыеПрепараты</th>\n",
       "    </tr>\n",
       "  </thead>\n",
       "  <tbody>\n",
       "    <tr>\n",
       "      <th>0</th>\n",
       "      <td>106599178</td>\n",
       "      <td>1</td>\n",
       "      <td>S06.00</td>\n",
       "      <td>Сотрясение головного мозга без открытой внутри...</td>\n",
       "      <td>2023-09-01 11:03:46.000</td>\n",
       "      <td>0x9529545E3E199F69FCC7FC5D91EA7811A818FC7B4ADB...</td>\n",
       "      <td>11627.0</td>\n",
       "      <td>0.0</td>\n",
       "      <td>Врач невролог</td>\n",
       "      <td>Головная боль в области ссадин, светобоязнь, т...</td>\n",
       "      <td>Факт получения травм, ожогов, ран, проведения ...</td>\n",
       "      <td>Отрицает</td>\n",
       "      <td>NaN</td>\n",
       "    </tr>\n",
       "    <tr>\n",
       "      <th>1</th>\n",
       "      <td>106599178</td>\n",
       "      <td>2</td>\n",
       "      <td>S69.9</td>\n",
       "      <td>Травма запястья и кисти неуточненная|Другие и ...</td>\n",
       "      <td>2023-09-01 11:03:46.000</td>\n",
       "      <td>0x9529545E3E199F69FCC7FC5D91EA7811A818FC7B4ADB...</td>\n",
       "      <td>11627.0</td>\n",
       "      <td>0.0</td>\n",
       "      <td>Врач невролог</td>\n",
       "      <td>Головная боль в области ссадин, светобоязнь, т...</td>\n",
       "      <td>Факт получения травм, ожогов, ран, проведения ...</td>\n",
       "      <td>Отрицает</td>\n",
       "      <td>NaN</td>\n",
       "    </tr>\n",
       "    <tr>\n",
       "      <th>2</th>\n",
       "      <td>106599251</td>\n",
       "      <td>1</td>\n",
       "      <td>S86.1</td>\n",
       "      <td>Травма другой (их) мышцы (мышц) и сухожилия (и...</td>\n",
       "      <td>2023-09-01 11:04:46.000</td>\n",
       "      <td>0x5C9681F364FCE1E5F3BC8688C373BD2AF512215E842E...</td>\n",
       "      <td>15578.0</td>\n",
       "      <td>0.0</td>\n",
       "      <td>Врач травматолог ортопед</td>\n",
       "      <td>на боли в области правой голени при движениях ...</td>\n",
       "      <td>Факт получения травм, ожогов, ран, проведения ...</td>\n",
       "      <td>Аппендэктомия.</td>\n",
       "      <td>Базисной терапии нет.</td>\n",
       "    </tr>\n",
       "    <tr>\n",
       "      <th>3</th>\n",
       "      <td>106599253</td>\n",
       "      <td>1</td>\n",
       "      <td>J03.9</td>\n",
       "      <td>Острый тонзиллит неуточненный|Острый тонзиллит...</td>\n",
       "      <td>2023-09-01 11:04:53.000</td>\n",
       "      <td>0x18B0F813163D92FD222813D4F5D2B7EE606CAC6F01CF...</td>\n",
       "      <td>8821.0</td>\n",
       "      <td>1.0</td>\n",
       "      <td>Врач терапевт</td>\n",
       "      <td>На момент осмотра предъявляет жалобы на повыше...</td>\n",
       "      <td>Факт получения травм, ожогов, ран, проведения ...</td>\n",
       "      <td>NaN</td>\n",
       "      <td>NaN</td>\n",
       "    </tr>\n",
       "    <tr>\n",
       "      <th>4</th>\n",
       "      <td>106599267</td>\n",
       "      <td>1</td>\n",
       "      <td>N41.1</td>\n",
       "      <td>Хронический простатит|Воспалительные болезни п...</td>\n",
       "      <td>2023-09-01 11:04:59.000</td>\n",
       "      <td>0x3208D40A66F2E932A43BD4619BEBCD3908292864F5CD...</td>\n",
       "      <td>18583.0</td>\n",
       "      <td>0.0</td>\n",
       "      <td>Врач уролог</td>\n",
       "      <td>-***-*   по ДМС  на  учащенные мочеиспускания,...</td>\n",
       "      <td>отрицает  ОРВИ  хр простатит</td>\n",
       "      <td>отрицает</td>\n",
       "      <td>NaN</td>\n",
       "    </tr>\n",
       "  </tbody>\n",
       "</table>\n",
       "</div>"
      ],
      "text/plain": [
       "   MedicalRecordKey  N_LINE  КодМКБ  \\\n",
       "0         106599178       1  S06.00   \n",
       "1         106599178       2   S69.9   \n",
       "2         106599251       1   S86.1   \n",
       "3         106599253       1   J03.9   \n",
       "4         106599267       1   N41.1   \n",
       "\n",
       "                                        ДиагнозПоМКБ        MedicalRecordDate  \\\n",
       "0  Сотрясение головного мозга без открытой внутри...  2023-09-01 11:03:46.000   \n",
       "1  Травма запястья и кисти неуточненная|Другие и ...  2023-09-01 11:03:46.000   \n",
       "2  Травма другой (их) мышцы (мышц) и сухожилия (и...  2023-09-01 11:04:46.000   \n",
       "3  Острый тонзиллит неуточненный|Острый тонзиллит...  2023-09-01 11:04:53.000   \n",
       "4  Хронический простатит|Воспалительные болезни п...  2023-09-01 11:04:59.000   \n",
       "\n",
       "                                          PatientKey  Возраст  Пол  \\\n",
       "0  0x9529545E3E199F69FCC7FC5D91EA7811A818FC7B4ADB...  11627.0  0.0   \n",
       "1  0x9529545E3E199F69FCC7FC5D91EA7811A818FC7B4ADB...  11627.0  0.0   \n",
       "2  0x5C9681F364FCE1E5F3BC8688C373BD2AF512215E842E...  15578.0  0.0   \n",
       "3  0x18B0F813163D92FD222813D4F5D2B7EE606CAC6F01CF...   8821.0  1.0   \n",
       "4  0x3208D40A66F2E932A43BD4619BEBCD3908292864F5CD...  18583.0  0.0   \n",
       "\n",
       "         СпециальностьВрача  \\\n",
       "0             Врач невролог   \n",
       "1             Врач невролог   \n",
       "2  Врач травматолог ортопед   \n",
       "3             Врач терапевт   \n",
       "4               Врач уролог   \n",
       "\n",
       "                                              Жалобы  \\\n",
       "0  Головная боль в области ссадин, светобоязнь, т...   \n",
       "1  Головная боль в области ссадин, светобоязнь, т...   \n",
       "2  на боли в области правой голени при движениях ...   \n",
       "3  На момент осмотра предъявляет жалобы на повыше...   \n",
       "4  -***-*   по ДМС  на  учащенные мочеиспускания,...   \n",
       "\n",
       "                             ПеренесенныеЗаболевания ПеренесенныеОперации  \\\n",
       "0  Факт получения травм, ожогов, ран, проведения ...             Отрицает   \n",
       "1  Факт получения травм, ожогов, ран, проведения ...             Отрицает   \n",
       "2  Факт получения травм, ожогов, ран, проведения ...       Аппендэктомия.   \n",
       "3  Факт получения травм, ожогов, ран, проведения ...                  NaN   \n",
       "4                       отрицает  ОРВИ  хр простатит             отрицает   \n",
       "\n",
       "    ПринимаемыеПрепараты  \n",
       "0                    NaN  \n",
       "1                    NaN  \n",
       "2  Базисной терапии нет.  \n",
       "3                    NaN  \n",
       "4                    NaN  "
      ]
     },
     "execution_count": 34,
     "metadata": {},
     "output_type": "execute_result"
    }
   ],
   "source": [
    "diag.head()"
   ]
  },
  {
   "cell_type": "code",
   "execution_count": 35,
   "id": "e1d64d5f-5dcc-4856-8a74-e47bb6e3b93f",
   "metadata": {},
   "outputs": [],
   "source": [
    "diag.dropna(subset=['ДиагнозПоМКБ'], inplace=True)\n",
    "diag.reset_index(inplace=True)"
   ]
  },
  {
   "cell_type": "code",
   "execution_count": 36,
   "id": "7c05aa5d-a921-432a-b753-ed69dcdefde0",
   "metadata": {},
   "outputs": [],
   "source": [
    "import warnings\n",
    "warnings.filterwarnings('ignore')\n",
    "from tqdm.notebook import tqdm"
   ]
  },
  {
   "cell_type": "code",
   "execution_count": 37,
   "id": "66cdfe35-9ad7-45e9-8924-8c47e86045ca",
   "metadata": {},
   "outputs": [],
   "source": [
    "articles.dropna(subset=['subtitle'], inplace=True)\n",
    "articles.reset_index(inplace=True)"
   ]
  },
  {
   "cell_type": "code",
   "execution_count": 38,
   "id": "374d15e2-ed87-4bea-89a9-bdb09d699957",
   "metadata": {},
   "outputs": [
    {
     "data": {
      "application/vnd.jupyter.widget-view+json": {
       "model_id": "d9fa8b15726243de9f9d56a6d36a749d",
       "version_major": 2,
       "version_minor": 0
      },
      "text/plain": [
       "  0%|          | 0/553 [00:00<?, ?it/s]"
      ]
     },
     "metadata": {},
     "output_type": "display_data"
    }
   ],
   "source": [
    "for j in tqdm(range(articles.shape[0])):\n",
    "    stmp_str = articles['title'][j].split()\n",
    "    for i in range(len(stmp_str)):\n",
    "        stmp_str[i] = stmp_str[i].replace('|', ' ')\n",
    "        stmp_str[i] = [w for w in stmp_str[i] if (w.isalpha() or w==' ' or w in '.,?!:;')]\n",
    "        stmp_str[i] = list(filter(lambda w: not re.match(r'[a-zA-Z]+', w), stmp_str[i]))\n",
    "        stmp_str[i] = ''.join(stmp_str[i])\n",
    "    articles['title'][j] = ' '.join(stmp_str)\n",
    "    articles['title'][j] = ' '.join(articles['title'][j].split())"
   ]
  },
  {
   "cell_type": "code",
   "execution_count": 39,
   "id": "38cf0a2d-b721-4ef9-8573-020b1da8af26",
   "metadata": {},
   "outputs": [
    {
     "data": {
      "application/vnd.jupyter.widget-view+json": {
       "model_id": "4d897818ee1b42219515796b8201d2c1",
       "version_major": 2,
       "version_minor": 0
      },
      "text/plain": [
       "  0%|          | 0/553 [00:00<?, ?it/s]"
      ]
     },
     "metadata": {},
     "output_type": "display_data"
    }
   ],
   "source": [
    "for j in tqdm(range(articles.shape[0])):\n",
    "    stmp_str = articles['subtitle'][j].split()\n",
    "    for i in range(len(stmp_str)):\n",
    "        stmp_str[i] = stmp_str[i].replace('|', ' ')\n",
    "        stmp_str[i] = [w for w in stmp_str[i] if (w.isalpha() or w==' ' or w in '.,?!:;')]\n",
    "        stmp_str[i] = list(filter(lambda w: not re.match(r'[a-zA-Z]+', w), stmp_str[i]))\n",
    "        stmp_str[i] = ''.join(stmp_str[i])\n",
    "    articles['subtitle'][j] = ' '.join(stmp_str)\n",
    "    articles['subtitle'][j] = ' '.join(articles['subtitle'][j].split())"
   ]
  },
  {
   "cell_type": "code",
   "execution_count": 40,
   "id": "d141cc68-106f-401c-aacc-247e746b43e2",
   "metadata": {},
   "outputs": [
    {
     "data": {
      "text/plain": [
       "0"
      ]
     },
     "execution_count": 40,
     "metadata": {},
     "output_type": "execute_result"
    }
   ],
   "source": [
    "diag['ДиагнозПоМКБ'].isna().sum()"
   ]
  },
  {
   "cell_type": "code",
   "execution_count": 41,
   "id": "8655beff-1e72-41fb-bac4-99bd5de3bc93",
   "metadata": {},
   "outputs": [
    {
     "data": {
      "text/plain": [
       "Index(['index', 'MedicalRecordKey', 'N_LINE', 'КодМКБ', 'ДиагнозПоМКБ',\n",
       "       'MedicalRecordDate', 'PatientKey', 'Возраст', 'Пол',\n",
       "       'СпециальностьВрача', 'Жалобы', 'ПеренесенныеЗаболевания',\n",
       "       'ПеренесенныеОперации', 'ПринимаемыеПрепараты'],\n",
       "      dtype='object')"
      ]
     },
     "execution_count": 41,
     "metadata": {},
     "output_type": "execute_result"
    }
   ],
   "source": [
    "diag.columns"
   ]
  },
  {
   "cell_type": "code",
   "execution_count": 42,
   "id": "b33b13fb-9df6-43cc-a55e-5d5c50b8a4cc",
   "metadata": {},
   "outputs": [],
   "source": [
    "diag.dropna(subset=['Жалобы'], inplace= True)"
   ]
  },
  {
   "cell_type": "markdown",
   "id": "287fabe9-fc96-47a0-99f2-5fcd7a7a324b",
   "metadata": {},
   "source": [
    "# Модель longformer <a class=\"anchor\" id=\"second-bullet\"></a>"
   ]
  },
  {
   "cell_type": "code",
   "execution_count": 58,
   "id": "0806b030-aa77-4383-908f-ac444fba76e3",
   "metadata": {},
   "outputs": [
    {
     "name": "stderr",
     "output_type": "stream",
     "text": [
      "Some weights of LongformerModel were not initialized from the model checkpoint at kazzand/ru-longformer-tiny-16384 and are newly initialized: ['longformer.pooler.dense.bias', 'longformer.pooler.dense.weight']\n",
      "You should probably TRAIN this model on a down-stream task to be able to use it for predictions and inference.\n"
     ]
    }
   ],
   "source": [
    "import torch\n",
    "from transformers import LongformerModel, LongformerTokenizerFast\n",
    "import numpy\n",
    "from sklearn.metrics.pairwise import cosine_similarity\n",
    "import torch.nn.functional as F\n",
    "# Загрузка предобученной модели и токенизатора\n",
    "model = LongformerModel.from_pretrained('kazzand/ru-longformer-tiny-16384')\n",
    "tokenizer = LongformerTokenizerFast.from_pretrained('kazzand/ru-longformer-tiny-16384')\n",
    "\n",
    "\n",
    "def longfromer_pred(diag_str):\n",
    "\n",
    "    similarities = []\n",
    "    tmp_str = diag_str.split()\n",
    "    for i in range(len(tmp_str)):\n",
    "        tmp_str[i] = tmp_str[i].replace('|', ' ')\n",
    "        tmp_str[i] = [w for w in tmp_str[i] if (w.isalpha() or w==' ')]\n",
    "        tmp_str[i] = list(filter(lambda w: not re.match(r'[a-zA-Z]+', w), tmp_str[i]))\n",
    "        tmp_str[i] = ''.join(tmp_str[i])\n",
    "    \n",
    "    cur_article = numpy.NaN\n",
    "    sim = 0 \n",
    "    for i in range(articles.shape[0]):\n",
    "        cur_diag = ' '.join(tmp_str)\n",
    "        cur_diag = ' '.join(cur_diag.split())\n",
    "        top_50 = ' '.join(articles['subtitle'][i].split()[:50])\n",
    "        art_text = ' '.join(top_50.split())\n",
    "        art_text = articles['title'][i]\n",
    "        if len(cur_diag)>len(art_text):\n",
    "            art_text = art_text+' '*(len(cur_diag)-len(art_text))\n",
    "            \n",
    "        else:\n",
    "            cur_diag = cur_diag+' '*(len(art_text)-len(cur_diag))\n",
    "    \n",
    "        \n",
    "        encoding1 = tokenizer.encode(cur_diag, truncation=True)\n",
    "        encoding1 = numpy.array(encoding1)\n",
    "        \n",
    "        encoding2 = tokenizer.encode(art_text,truncation=True)\n",
    "        encoding2 = numpy.array(encoding2)\n",
    "        if encoding1.shape[0]>encoding2.shape[0]:\n",
    "            zero_vector = numpy.zeros((1, len(encoding1)-len(encoding2)), dtype=int)\n",
    "            zero_vector = zero_vector.reshape(len(encoding1)-len(encoding2), 1)\n",
    "            #encoding2 = encoding2.reshape(len(encoding2),1)\n",
    "            #encoding2 = numpy.concatenate((encoding2, zero_vector))\n",
    "        else:\n",
    "            zero_vector = numpy.zeros((1, len(encoding2)-len(encoding1)), dtype=int)\n",
    "            zero_vector = zero_vector.reshape(len(encoding1)-len(encoding2), 1)\n",
    "            #encoding1 = encoding1.reshape(len(encoding1),1)\n",
    "            #encoding1 = numpy.concatenate((encoding1, zero_vector))\n",
    "        inputs_1 = torch.tensor([encoding1]).unsqueeze(0)\n",
    "        inputs_2 = torch.tensor([encoding2]).unsqueeze(0)\n",
    "        with torch.no_grad():\n",
    "            outputs_1 = model(inputs_1[0])\n",
    "            outputs_2 = model(inputs_2[0])\n",
    "        similarity = cosine_similarity(outputs_1[0][0][0].reshape(1,-1),outputs_2[0][0][0].reshape(1,-1))\n",
    "        similarities.append(similarity)\n",
    "    similarities = np.array(similarities)\n",
    "    ind = np.argpartition(similarities.reshape(similarities.shape[1], similarities.shape[0]), -4)[:, -4:]\n",
    "    values = similarities[ind]\n",
    "    return ind, values"
   ]
  },
  {
   "cell_type": "code",
   "execution_count": 60,
   "id": "9b6b1e42-bf0d-45f8-a5d2-ffc36fa3522e",
   "metadata": {},
   "outputs": [],
   "source": [
    "ind, values = longfromer_pred(diag['Жалобы'][0])"
   ]
  },
  {
   "cell_type": "code",
   "execution_count": 66,
   "id": "1a302faf-512d-4698-8dde-a279a94c0a99",
   "metadata": {},
   "outputs": [
    {
     "name": "stdout",
     "output_type": "stream",
     "text": [
      "Жалоба:  Головная боль в области ссадин, светобоязнь, тошнота, боль в левой руке, в области ссадин на коленях, на правой руке.\n",
      "Рекомендация:  Реабилитация после травм спины спинного мозга \n",
      "Близость:  [[0.6644475]] \n",
      "\n",
      "Рекомендация:  Мезотерапия вокруг глаз как спасение от мешков, отёков и тёмных кругов \n",
      "Близость:  [[0.6717312]] \n",
      "\n",
      "Рекомендация:  Лечение варусной деформации нижних конечностей \n",
      "Близость:  [[0.7226739]] \n",
      "\n",
      "Рекомендация:  Лечение вальгусной деформации стопы \n",
      "Близость:  [[0.70205754]] \n",
      "\n"
     ]
    }
   ],
   "source": [
    "print(\"Жалоба: \",diag['Жалобы'][0])\n",
    "print(\"Рекомендация: \",articles['title'][ind[0][0]],'\\nБлизость: ',values[0][0],\"\\n\")\n",
    "print(\"Рекомендация: \", articles['title'][ind[0][1]],\"\\nБлизость: \",values[0][1],\"\\n\")\n",
    "print(\"Рекомендация: \",articles['title'][ind[0][2]],'\\nБлизость: ',values[0][2],\"\\n\")\n",
    "print(\"Рекомендация: \",articles['title'][ind[0][3]],'\\nБлизость: ',values[0][3],\"\\n\")"
   ]
  },
  {
   "cell_type": "markdown",
   "id": "103be13b-3579-433a-be68-bec4f529f3ee",
   "metadata": {},
   "source": [
    "# Модель rut5-multitask <a class=\"anchor\" id=\"third-bullet\"></a>"
   ]
  },
  {
   "cell_type": "code",
   "execution_count": 69,
   "id": "bb241964-3947-49e6-a422-38da5c22da2f",
   "metadata": {},
   "outputs": [],
   "source": [
    "import torch\n",
    "from transformers import T5ForConditionalGeneration, T5Tokenizer\n",
    "import numpy\n",
    "# Загрузка предобученной модели и токенизатора\n",
    "tokenizer = T5Tokenizer.from_pretrained(\"cointegrated/rut5-base-multitask\")\n",
    "model = T5ForConditionalGeneration.from_pretrained(\"cointegrated/rut5-base-multitask\")\n",
    "\n",
    "def rut5_pred(diag_str):\n",
    "    similarities = []\n",
    "    cur_article = numpy.NaN\n",
    "    sim = 0 \n",
    "    tmp_str = diag_str.split()\n",
    "    for i in range(len(tmp_str)):\n",
    "        tmp_str[i] = tmp_str[i].replace('|', ' ')\n",
    "        tmp_str[i] = [w for w in tmp_str[i] if (w.isalpha() or w==' ')]\n",
    "        tmp_str[i] = list(filter(lambda w: not re.match(r'[a-zA-Z]+', w), tmp_str[i]))\n",
    "        tmp_str[i] = ''.join(tmp_str[i])\n",
    "        \n",
    "    for i in range(articles.shape[0]):\n",
    "        cur_diag = ' '.join(tmp_str)\n",
    "        cur_diag = ' '.join(cur_diag.split())\n",
    "        top_50 = ' '.join(articles['subtitle'][i].split())\n",
    "        art_text = ' '.join(top_50.split())\n",
    "        art_text = articles['title'][i]\n",
    "        encoding1 = tokenizer.encode(cur_diag, max_length=512)\n",
    "        encoding1 = numpy.array(encoding1)\n",
    "        encoding2 = tokenizer.encode(art_text, max_length=512)\n",
    "        encoding2 = numpy.array(encoding2)\n",
    "        if encoding1.shape[0]>encoding2.shape[0]:\n",
    "            zero_vector = numpy.zeros((1, len(encoding1)-len(encoding2)), dtype=int)\n",
    "            zero_vector = zero_vector.reshape(len(encoding1)-len(encoding2), 1)\n",
    "            encoding2 = encoding2.reshape(len(encoding2),1)\n",
    "            encoding2 = numpy.concatenate((encoding2, zero_vector))\n",
    "        else:\n",
    "            zero_vector = numpy.zeros((1, len(encoding2)-len(encoding1)), dtype=int)\n",
    "            zero_vector = zero_vector.reshape(len(encoding1)-len(encoding2), 1)\n",
    "            encoding1 = encoding1.reshape(len(encoding1),1)\n",
    "            encoding1 = numpy.concatenate((encoding1, zero_vector))\n",
    "        similarity = cosine_similarity(encoding1.reshape(1,-1),encoding2.reshape(1,-1))\n",
    "        similarities.append(similarity)\n",
    "    similarities = np.array(similarities)\n",
    "    ind = np.argpartition(similarities.reshape(similarities.shape[1], similarities.shape[0]), -4)[:, -4:]\n",
    "    values = similarities[ind]\n",
    "    return ind, values"
   ]
  },
  {
   "cell_type": "code",
   "execution_count": 70,
   "id": "b25567aa-0043-463b-8376-4647087866a9",
   "metadata": {},
   "outputs": [
    {
     "name": "stderr",
     "output_type": "stream",
     "text": [
      "Truncation was not explicitly activated but `max_length` is provided a specific value, please use `truncation=True` to explicitly truncate examples to max length. Defaulting to 'longest_first' truncation strategy. If you encode pairs of sequences (GLUE-style) with the tokenizer you can select this strategy more precisely by providing a specific strategy to `truncation`.\n"
     ]
    }
   ],
   "source": [
    "ind, values = rut5_pred(diag['Жалобы'][0])"
   ]
  },
  {
   "cell_type": "code",
   "execution_count": 71,
   "id": "cc5f0f64-5e72-4e33-84e4-efee2d085297",
   "metadata": {},
   "outputs": [
    {
     "name": "stdout",
     "output_type": "stream",
     "text": [
      "Жалоба:  Головная боль в области ссадин, светобоязнь, тошнота, боль в левой руке, в области ссадин на коленях, на правой руке.\n",
      "Рекомендация:  Проведение трансвагинальной пункции фолликулов, переноса эмбрионов в полость матки, внутриматочной инсеминации \n",
      "Близость:  [[0.49563308]] \n",
      "\n",
      "Рекомендация:  Остеохондроз что это такое, причины, симптомы, лечение и профилактика. Как лечить остеохондроз позвоночника? \n",
      "Близость:  [[0.51552281]] \n",
      "\n",
      "Рекомендация:  Биопсия шейки матки нерожавших девушек: показания и противопоказания, влияет ли на способность забеременеть \n",
      "Близость:  [[0.6009054]] \n",
      "\n",
      "Рекомендация:  Бронхиальная астма: симптомы и лечение, признаки у взрослых \n",
      "Близость:  [[0.52806139]] \n",
      "\n"
     ]
    }
   ],
   "source": [
    "print(\"Жалоба: \",diag['Жалобы'][0])\n",
    "print(\"Рекомендация: \",articles['title'][ind[0][0]],'\\nБлизость: ',values[0][0],\"\\n\")\n",
    "print(\"Рекомендация: \", articles['title'][ind[0][1]],\"\\nБлизость: \",values[0][1],\"\\n\")\n",
    "print(\"Рекомендация: \",articles['title'][ind[0][2]],'\\nБлизость: ',values[0][2],\"\\n\")\n",
    "print(\"Рекомендация: \",articles['title'][ind[0][3]],'\\nБлизость: ',values[0][3],\"\\n\")"
   ]
  },
  {
   "cell_type": "markdown",
   "id": "74a06344-af71-4167-8790-95b10f0ddfe2",
   "metadata": {},
   "source": [
    "# Модель fred_t5_ru <a class=\"anchor\" id=\"fourth-bullet\"></a>"
   ]
  },
  {
   "cell_type": "code",
   "execution_count": 74,
   "id": "128e80f7-fbed-4587-b8ec-063f10e68430",
   "metadata": {},
   "outputs": [],
   "source": [
    "from transformers import AutoTokenizer, AutoModelForSeq2SeqLM\n",
    "\n",
    "model_name = \"IlyaGusev/fred_t5_ru_turbo_alpaca\"\n",
    "tokenizer = AutoTokenizer.from_pretrained(model_name)\n",
    "model = AutoModelForSeq2SeqLM.from_pretrained(model_name)\n",
    "\n",
    "\n",
    "\n",
    "def fred_t5_alpaca_pred(diag_str):\n",
    "    similarities = []\n",
    "    tmp_str = diag_str.split()\n",
    "    for i in range(len(tmp_str)):\n",
    "        tmp_str[i] = tmp_str[i].replace('|', ' ')\n",
    "        tmp_str[i] = [w for w in tmp_str[i] if (w.isalpha() or w==' ')]\n",
    "        tmp_str[i] = list(filter(lambda w: not re.match(r'[a-zA-Z]+', w), tmp_str[i]))\n",
    "        tmp_str[i] = ''.join(tmp_str[i])\n",
    "    \n",
    "    for i in range(articles.shape[0]):\n",
    "        \n",
    "        cur_diag = ' '.join(tmp_str)\n",
    "        cur_diag = ' '.join(cur_diag.split())\n",
    "        top_50 = ' '.join(articles['subtitle'][i].split()[:25])\n",
    "        art_text = ' '.join(top_50.split())\n",
    "        art_text = articles['title'][i]\n",
    "        encoding1 = tokenizer.encode(cur_diag)\n",
    "        encoding1 = numpy.array(encoding1)\n",
    "        encoding2 = tokenizer.encode(art_text, max_length=512)\n",
    "        encoding2 = numpy.array(encoding2)\n",
    "        if encoding1.shape[0]>encoding2.shape[0]:\n",
    "            zero_vector = numpy.zeros((1, len(encoding1)-len(encoding2)), dtype=int)\n",
    "            zero_vector = zero_vector.reshape(len(encoding1)-len(encoding2), 1)\n",
    "            encoding2 = encoding2.reshape(len(encoding2),1)\n",
    "            encoding2 = numpy.concatenate((encoding2, zero_vector))\n",
    "        else:\n",
    "            zero_vector = numpy.zeros((1, len(encoding2)-len(encoding1)), dtype=int)\n",
    "            zero_vector = zero_vector.reshape(len(encoding1)-len(encoding2), 1)\n",
    "            encoding1 = encoding1.reshape(len(encoding1),1)\n",
    "            encoding1 = numpy.concatenate((encoding1, zero_vector))\n",
    "        similarity = cosine_similarity(encoding1.reshape(1,-1),encoding2.reshape(1,-1))\n",
    "        similarities.append(similarity)\n",
    "    similarities = np.array(similarities)\n",
    "    ind = np.argpartition(similarities.reshape(similarities.shape[1], similarities.shape[0]), -4)[:, -4:]\n",
    "    values = similarities[ind]\n",
    "    return ind, values"
   ]
  },
  {
   "cell_type": "code",
   "execution_count": 75,
   "id": "1903101a-988a-4cb2-8b26-618f7392f9fb",
   "metadata": {},
   "outputs": [
    {
     "name": "stderr",
     "output_type": "stream",
     "text": [
      "Truncation was not explicitly activated but `max_length` is provided a specific value, please use `truncation=True` to explicitly truncate examples to max length. Defaulting to 'longest_first' truncation strategy. If you encode pairs of sequences (GLUE-style) with the tokenizer you can select this strategy more precisely by providing a specific strategy to `truncation`.\n"
     ]
    }
   ],
   "source": [
    "ind, values = fred_t5_alpaca_pred(diag['Жалобы'][0])"
   ]
  },
  {
   "cell_type": "code",
   "execution_count": 76,
   "id": "377f67e1-ab90-4c7b-91ee-2c7ef311ea08",
   "metadata": {},
   "outputs": [
    {
     "name": "stdout",
     "output_type": "stream",
     "text": [
      "Жалоба:  Головная боль в области ссадин, светобоязнь, тошнота, боль в левой руке, в области ссадин на коленях, на правой руке.\n",
      "Рекомендация:  Противопоказания для вакцинации \n",
      "Близость:  [[0.59743152]] \n",
      "\n",
      "Рекомендация:  Селективный перенос одного эмбриона \n",
      "Близость:  [[0.60868135]] \n",
      "\n",
      "Рекомендация:  Возможна ли естественная беременность после ЭКО \n",
      "Близость:  [[0.61913053]] \n",
      "\n",
      "Рекомендация:  Интравитреальные инъекции \n",
      "Близость:  [[0.62020584]] \n",
      "\n"
     ]
    }
   ],
   "source": [
    "print(\"Жалоба: \",diag['Жалобы'][0])\n",
    "print(\"Рекомендация: \",articles['title'][ind[0][0]],'\\nБлизость: ',values[0][0],\"\\n\")\n",
    "print(\"Рекомендация: \", articles['title'][ind[0][1]],\"\\nБлизость: \",values[0][1],\"\\n\")\n",
    "print(\"Рекомендация: \",articles['title'][ind[0][2]],'\\nБлизость: ',values[0][2],\"\\n\")\n",
    "print(\"Рекомендация: \",articles['title'][ind[0][3]],'\\nБлизость: ',values[0][3],\"\\n\")"
   ]
  },
  {
   "cell_type": "markdown",
   "id": "7d14643c-189b-4bb9-a020-78d336f520fe",
   "metadata": {},
   "source": [
    "# Модель Vikhr <a class=\"anchor\" id=\"fifth-bullet\"></a>"
   ]
  },
  {
   "cell_type": "code",
   "execution_count": 77,
   "id": "6a5a60c1-7164-4d41-9f29-4a7c7a90d265",
   "metadata": {},
   "outputs": [
    {
     "name": "stderr",
     "output_type": "stream",
     "text": [
      "Special tokens have been added in the vocabulary, make sure the associated word embeddings are fine-tuned or trained.\n"
     ]
    }
   ],
   "source": [
    "from transformers import AutoTokenizer, AutoModelForCausalLM\n",
    "import torch\n",
    "\n",
    "tokenizer = AutoTokenizer.from_pretrained(\"Vikhrmodels/Vikhr-7B-instruct_0.4\")\n",
    "\n",
    "def vikhr_pred(diag_str):\n",
    "    similarities = []\n",
    "    tmp_str = diag_str.split()\n",
    "    for i in range(len(tmp_str)):\n",
    "        tmp_str[i] = tmp_str[i].replace('|', ' ')\n",
    "        tmp_str[i] = [w for w in tmp_str[i] if (w.isalpha() or w==' ')]\n",
    "        tmp_str[i] = list(filter(lambda w: not re.match(r'[a-zA-Z]+', w), tmp_str[i]))\n",
    "        tmp_str[i] = ''.join(tmp_str[i])\n",
    "    for i in range(articles.shape[0]):\n",
    "        cur_diag = ' '.join(tmp_str)\n",
    "        cur_diag = ' '.join(cur_diag.split())\n",
    "        top_50 = ' '.join(articles['subtitle'][i].split()[:25])\n",
    "        art_text = ' '.join(top_50.split())\n",
    "        art_text = articles['title'][i]\n",
    "        encoding1 = tokenizer.encode(cur_diag, max_length=512)\n",
    "        encoding1 = numpy.array(encoding1)\n",
    "        encoding2 = tokenizer.encode(art_text, max_length=512)\n",
    "        encoding2 = numpy.array(encoding2)\n",
    "        if encoding1.shape[0]>encoding2.shape[0]:\n",
    "            zero_vector = numpy.zeros((1, len(encoding1)-len(encoding2)), dtype=int)\n",
    "            zero_vector = zero_vector.reshape(len(encoding1)-len(encoding2), 1)\n",
    "            encoding2 = encoding2.reshape(len(encoding2),1)\n",
    "            encoding2 = numpy.concatenate((encoding2, zero_vector))\n",
    "        else:\n",
    "            zero_vector = numpy.zeros((1, len(encoding2)-len(encoding1)), dtype=int)\n",
    "            zero_vector = zero_vector.reshape(len(encoding1)-len(encoding2), 1)\n",
    "            encoding1 = encoding1.reshape(len(encoding1),1)\n",
    "            encoding1 = numpy.concatenate((encoding1, zero_vector))\n",
    "        similarity = cosine_similarity(encoding1.reshape(1,-1),encoding2.reshape(1,-1))\n",
    "        similarities = np.array(similarities)\n",
    "    ind = np.argpartition(similarities.reshape(similarities.shape[1], similarities.shape[0]), -4)[:, -4:]\n",
    "    values = similarities[ind]\n",
    "    return ind, values"
   ]
  },
  {
   "cell_type": "code",
   "execution_count": 78,
   "id": "08beaafb-ac7b-4ac0-921a-35f3f5569cab",
   "metadata": {},
   "outputs": [
    {
     "name": "stderr",
     "output_type": "stream",
     "text": [
      "Truncation was not explicitly activated but `max_length` is provided a specific value, please use `truncation=True` to explicitly truncate examples to max length. Defaulting to 'longest_first' truncation strategy. If you encode pairs of sequences (GLUE-style) with the tokenizer you can select this strategy more precisely by providing a specific strategy to `truncation`.\n"
     ]
    }
   ],
   "source": [
    "ind, values = fred_t5_alpaca_pred(diag['Жалобы'][0])"
   ]
  },
  {
   "cell_type": "code",
   "execution_count": 79,
   "id": "ce27674e-fc1a-4aee-b2a6-5b533d58a955",
   "metadata": {},
   "outputs": [
    {
     "name": "stdout",
     "output_type": "stream",
     "text": [
      "Жалоба:  Головная боль в области ссадин, светобоязнь, тошнота, боль в левой руке, в области ссадин на коленях, на правой руке.\n",
      "Рекомендация:  Что такое АСИТтерапия и как ее проводят. Показания, противопоказания, побочные эффекты \n",
      "Близость:  [[0.62031335]] \n",
      "\n",
      "Рекомендация:  Врач уролог кто это и что лечит? Все о врачебной специальности уролог \n",
      "Близость:  [[0.62778454]] \n",
      "\n",
      "Рекомендация:  Гидронефроз почек: степени гидронефроза, признаки заболевания, диагностика и методы лечения \n",
      "Близость:  [[0.63562919]] \n",
      "\n",
      "Рекомендация:  Как подготовиться к беременности: с чего начать, какие анализы необходимо сдавать, организация правильного питания, влияние вредных привычек и другая полезная информация \n",
      "Близость:  [[0.6807491]] \n",
      "\n"
     ]
    }
   ],
   "source": [
    "print(\"Жалоба: \",diag['Жалобы'][0])\n",
    "print(\"Рекомендация: \",articles['title'][ind[0][0]],'\\nБлизость: ',values[0][0],\"\\n\")\n",
    "print(\"Рекомендация: \", articles['title'][ind[0][1]],\"\\nБлизость: \",values[0][1],\"\\n\")\n",
    "print(\"Рекомендация: \",articles['title'][ind[0][2]],'\\nБлизость: ',values[0][2],\"\\n\")\n",
    "print(\"Рекомендация: \",articles['title'][ind[0][3]],'\\nБлизость: ',values[0][3],\"\\n\")"
   ]
  },
  {
   "cell_type": "markdown",
   "id": "da288091-0e82-43d3-bc87-0ede2ed4e1b6",
   "metadata": {},
   "source": [
    "# Модель Starling <a class=\"anchor\" id=\"six-bullet\"></a>"
   ]
  },
  {
   "cell_type": "code",
   "execution_count": 80,
   "id": "35674ec8-503d-4c88-ad73-254196c97808",
   "metadata": {},
   "outputs": [
    {
     "name": "stderr",
     "output_type": "stream",
     "text": [
      "Special tokens have been added in the vocabulary, make sure the associated word embeddings are fine-tuned or trained.\n"
     ]
    }
   ],
   "source": [
    "import transformers\n",
    "\n",
    "tokenizer = transformers.AutoTokenizer.from_pretrained(\"Nexusflow/Starling-LM-7B-beta\")\n",
    "#model = transformers.AutoModelForCausalLM.from_pretrained(\"Nexusflow/Starling-LM-7B-beta\")\n",
    "\n",
    "def star_pred(diag_str):\n",
    "    similarities = []\n",
    "    tmp_str = diag_str.split()\n",
    "    for i in range(len(tmp_str)):\n",
    "        tmp_str[i] = tmp_str[i].replace('|', ' ')\n",
    "        tmp_str[i] = [w for w in tmp_str[i] if (w.isalpha() or w==' ')]\n",
    "        tmp_str[i] = list(filter(lambda w: not re.match(r'[a-zA-Z]+', w), tmp_str[i]))\n",
    "        tmp_str[i] = ''.join(tmp_str[i])\n",
    "    for i in range(articles.shape[0]):\n",
    "        cur_diag = ' '.join(tmp_str)\n",
    "        cur_diag = ' '.join(cur_diag.split())\n",
    "        top_50 = ' '.join(articles['subtitle'][i].split()[:25])\n",
    "        art_text = ' '.join(top_50.split())\n",
    "        art_text = articles['title'][i]\n",
    "        encoding1 = tokenizer.encode(cur_diag, max_length=512)\n",
    "        encoding1 = numpy.array(encoding1)\n",
    "        encoding2 = tokenizer.encode(art_text, max_length=512)\n",
    "        encoding2 = numpy.array(encoding2)\n",
    "        if encoding1.shape[0]>encoding2.shape[0]:\n",
    "            zero_vector = numpy.zeros((1, len(encoding1)-len(encoding2)), dtype=int)\n",
    "            zero_vector = zero_vector.reshape(len(encoding1)-len(encoding2), 1)\n",
    "            encoding2 = encoding2.reshape(len(encoding2),1)\n",
    "            encoding2 = numpy.concatenate((encoding2, zero_vector))\n",
    "        else:\n",
    "            zero_vector = numpy.zeros((1, len(encoding2)-len(encoding1)), dtype=int)\n",
    "            zero_vector = zero_vector.reshape(len(encoding1)-len(encoding2), 1)\n",
    "            encoding1 = encoding1.reshape(len(encoding1),1)\n",
    "            encoding1 = numpy.concatenate((encoding1, zero_vector))\n",
    "        \n",
    "        similarity = cosine_similarity(encoding1.reshape(1,-1),encoding2.reshape(1,-1))\n",
    "        similarities = np.array(similarities)\n",
    "    ind = np.argpartition(similarities.reshape(similarities.shape[1], similarities.shape[0]), -4)[:, -4:]\n",
    "    values = similarities[ind]\n",
    "    return ind, values"
   ]
  },
  {
   "cell_type": "code",
   "execution_count": 81,
   "id": "1e9aac0c-73dc-4ef7-96a5-e8f831d1f0cc",
   "metadata": {},
   "outputs": [
    {
     "name": "stderr",
     "output_type": "stream",
     "text": [
      "Truncation was not explicitly activated but `max_length` is provided a specific value, please use `truncation=True` to explicitly truncate examples to max length. Defaulting to 'longest_first' truncation strategy. If you encode pairs of sequences (GLUE-style) with the tokenizer you can select this strategy more precisely by providing a specific strategy to `truncation`.\n"
     ]
    }
   ],
   "source": [
    "ind, values = fred_t5_alpaca_pred(diag['Жалобы'][0])"
   ]
  },
  {
   "cell_type": "code",
   "execution_count": 82,
   "id": "f3cba295-39ca-4c29-be04-cb204025588e",
   "metadata": {},
   "outputs": [
    {
     "name": "stdout",
     "output_type": "stream",
     "text": [
      "Жалоба:  Головная боль в области ссадин, светобоязнь, тошнота, боль в левой руке, в области ссадин на коленях, на правой руке.\n",
      "Рекомендация:  Близорукость: что это такое, симптомы, методы лечения \n",
      "Близость:  [[0.69185162]] \n",
      "\n",
      "Рекомендация:  Астигматизм: что это такое, симптомы, методы лечения \n",
      "Близость:  [[0.75062663]] \n",
      "\n",
      "Рекомендация:  Крапивница: симптомы, причины, виды, лечение и осложнения \n",
      "Близость:  [[0.69440774]] \n",
      "\n",
      "Рекомендация:  Тонометрия глаза: показания к проведению, виды, методы измерения \n",
      "Близость:  [[0.73540849]] \n",
      "\n"
     ]
    }
   ],
   "source": [
    "print(\"Жалоба: \",diag['Жалобы'][0])\n",
    "print(\"Рекомендация: \",articles['title'][ind[0][0]],'\\nБлизость: ',values[0][0],\"\\n\")\n",
    "print(\"Рекомендация: \", articles['title'][ind[0][1]],\"\\nБлизость: \",values[0][1],\"\\n\")\n",
    "print(\"Рекомендация: \",articles['title'][ind[0][2]],'\\nБлизость: ',values[0][2],\"\\n\")\n",
    "print(\"Рекомендация: \",articles['title'][ind[0][3]],'\\nБлизость: ',values[0][3],\"\\n\")"
   ]
  },
  {
   "cell_type": "markdown",
   "id": "b9c70e2f-3b20-4249-8e37-48fa2aca329e",
   "metadata": {},
   "source": [
    "# Модель use-cmlm <a class=\"anchor\" id=\"seven-bullet\"></a>"
   ]
  },
  {
   "cell_type": "code",
   "execution_count": 86,
   "id": "f90d5cc6-0fd3-4684-8d0a-40b7e7db1aa1",
   "metadata": {},
   "outputs": [
    {
     "name": "stderr",
     "output_type": "stream",
     "text": [
      "Some weights of the model checkpoint at sentence-transformers/use-cmlm-multilingual were not used when initializing BertModel: ['cls.predictions.bias', 'cls.predictions.transform.LayerNorm.bias', 'cls.predictions.transform.LayerNorm.weight', 'cls.predictions.transform.dense.bias', 'cls.predictions.transform.dense.weight', 'cls.seq_relationship.bias', 'cls.seq_relationship.weight']\n",
      "- This IS expected if you are initializing BertModel from the checkpoint of a model trained on another task or with another architecture (e.g. initializing a BertForSequenceClassification model from a BertForPreTraining model).\n",
      "- This IS NOT expected if you are initializing BertModel from the checkpoint of a model that you expect to be exactly identical (initializing a BertForSequenceClassification model from a BertForSequenceClassification model).\n"
     ]
    },
    {
     "name": "stdout",
     "output_type": "stream",
     "text": [
      "Жалоба:  На остаточный дискомфорт и заложенность правого уха, выраженное першение в горле \n",
      "\n",
      "Статьи: \n",
      "Шишка на верхнем и нижнем веке глаза: причины заболевания, методы диагностики и лечения   0.4394267201423645\n",
      "Лечение храпа и синдрома обструктивного апноэ сна 0.4394267201423645\n",
      "Что делать при боли в деснах 0.4394267201423645\n"
     ]
    }
   ],
   "source": [
    "from sentence_transformers import SentenceTransformer, util\n",
    "import numpy as np\n",
    "#%%\n",
    "model = SentenceTransformer('sentence-transformers/use-cmlm-multilingual')\n",
    "\n",
    "cur = diag['Жалобы'][99]\n",
    "\n",
    "max_match = 0\n",
    "id_found = 0\n",
    "\n",
    "tmp_str = cur.split()\n",
    "for i in range(len(tmp_str)):\n",
    "    tmp_str[i] = tmp_str[i].replace('|', ' ')\n",
    "    tmp_str[i] = [w for w in tmp_str[i] if (w.isalpha() or w in'.,?!:;')]\n",
    "    tmp_str[i] = list(filter(lambda w: not re.match(r'[a-zA-Z]+', w), tmp_str[i]))\n",
    "    tmp_str[i] = ''.join(tmp_str[i])\n",
    "cur_diag = ' '.join(tmp_str).strip()\n",
    "\n",
    "article_encoded = model.encode(cur_diag)\n",
    "\n",
    "\n",
    "counter = 0\n",
    "art_text = articles['title']\n",
    "sentences_encoded = model.encode(art_text)\n",
    "scores = util.semantic_search(article_encoded, sentences_encoded)\n",
    "cur_max = scores[0][:3]\n",
    "print('Жалоба: ',cur_diag,'\\n')\n",
    "print('Статьи: ')\n",
    "print(articles['title'][cur_max[0]['corpus_id']], ' ', cur_max[0]['score'])\n",
    "print(articles['title'][cur_max[1]['corpus_id']],  cur_max[0]['score'])\n",
    "print(articles['title'][cur_max[2]['corpus_id']],  cur_max[0]['score'])"
   ]
  },
  {
   "cell_type": "markdown",
   "id": "396221d9-9525-4043-a961-b700e6bad75a",
   "metadata": {},
   "source": [
    "# Модель paraphrase <a class=\"anchor\" id=\"eight-bullet\"></a>"
   ]
  },
  {
   "cell_type": "code",
   "execution_count": 87,
   "id": "2d055074-83d2-44bc-b95d-5c728113c4b3",
   "metadata": {},
   "outputs": [
    {
     "name": "stdout",
     "output_type": "stream",
     "text": [
      "Жалоба:  Чувство тяжести в области правого подреберья ,после еды. Периодически беспокоят режущие боли в эпигастрии , после еды.  более после употребления фруктов, эпизоды сердцебиений. \n",
      "\n",
      "Статьи: \n",
      "Синдром раздраженного кишечника: причины и лечение СРК, препараты, диета и профилактика   0.6247788667678833\n",
      "Блефароспазм причины и симптомы 0.6247788667678833\n",
      "Крапивница: симптомы, причины, виды, лечение и осложнения 0.6247788667678833\n"
     ]
    }
   ],
   "source": [
    "from sentence_transformers import SentenceTransformer, util\n",
    "import numpy as np\n",
    "#%%\n",
    "model = SentenceTransformer('sentence-transformers/paraphrase-multilingual-mpnet-base-v2')\n",
    "\n",
    "cur = diag['Жалобы'][29]\n",
    "\n",
    "max_match = 0\n",
    "id_found = 0\n",
    "\n",
    "tmp_str = cur.split()\n",
    "for i in range(len(tmp_str)):\n",
    "    tmp_str[i] = tmp_str[i].replace('|', ' ')\n",
    "    tmp_str[i] = [w for w in tmp_str[i] if (w.isalpha() or w in'.,?!:;')]\n",
    "    tmp_str[i] = list(filter(lambda w: not re.match(r'[a-zA-Z]+', w), tmp_str[i]))\n",
    "    tmp_str[i] = ''.join(tmp_str[i])\n",
    "cur_diag = ' '.join(tmp_str).strip()\n",
    "\n",
    "article_encoded = model.encode(cur_diag)\n",
    "\n",
    "\n",
    "counter = 0\n",
    "art_text = articles['title']\n",
    "sentences_encoded = model.encode(art_text)\n",
    "scores = util.semantic_search(article_encoded, sentences_encoded)\n",
    "cur_max = scores[0][:3]\n",
    "print('Жалоба: ',cur_diag,'\\n')\n",
    "print('Статьи: ')\n",
    "print(articles['title'][cur_max[0]['corpus_id']], ' ', cur_max[0]['score'])\n",
    "print(articles['title'][cur_max[1]['corpus_id']],  cur_max[0]['score'])\n",
    "print(articles['title'][cur_max[2]['corpus_id']],  cur_max[0]['score'])"
   ]
  },
  {
   "cell_type": "code",
   "execution_count": null,
   "id": "250e8117-edc8-4b49-bab0-fd1d56448530",
   "metadata": {},
   "outputs": [],
   "source": []
  }
 ],
 "metadata": {
  "kernelspec": {
   "display_name": "Python 3 (ipykernel)",
   "language": "python",
   "name": "python3"
  },
  "language_info": {
   "codemirror_mode": {
    "name": "ipython",
    "version": 3
   },
   "file_extension": ".py",
   "mimetype": "text/x-python",
   "name": "python",
   "nbconvert_exporter": "python",
   "pygments_lexer": "ipython3",
   "version": "3.11.5"
  }
 },
 "nbformat": 4,
 "nbformat_minor": 5
}
